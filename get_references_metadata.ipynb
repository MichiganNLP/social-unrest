{
 "cells": [
  {
   "cell_type": "code",
   "execution_count": null,
   "metadata": {},
   "outputs": [],
   "source": [
    "import json\n",
    "import requests\n",
    "import bibtexparser"
   ]
  },
  {
   "cell_type": "code",
   "execution_count": null,
   "metadata": {},
   "outputs": [],
   "source": [
    "def fetch_metadata_uid_using_doi(doi, api_key):\n",
    "    url = f\"https://api.clarivate.com/api/wos?databaseId=WOK&usrQuery=DO=({doi})\"\n",
    "    headers = {\n",
    "        'X-ApiKey': api_key\n",
    "    }\n",
    "    response = requests.get(url, headers=headers)\n",
    "    if response.status_code == 200:\n",
    "        print(f'\\nReceiving response for DOI {doi}:\\n{response.json()}')\n",
    "        uid = ''\n",
    "        if response.json()['QueryResult']['RecordsFound'] > 0:\n",
    "            uid = response.json()['Data']['Records']['records']['REC'][0]['UID']\n",
    "            print('UID : ', uid.replace(':', '%3A'))\n",
    "        return response.json(), uid.replace(':', '%3A')\n",
    "    else:\n",
    "        print(f\"\\nError fetching metadata for DOI {doi}: {response.status_code}\")\n",
    "        print(\"Response Content:\", response.content)\n",
    "        return None, None"
   ]
  },
  {
   "cell_type": "code",
   "execution_count": null,
   "metadata": {},
   "outputs": [],
   "source": [
    "def fetch_references_using_uid(uid, api_key):\n",
    "    all_references = {'Data':[], 'QueryResult':{}}\n",
    "    first_index = 1\n",
    "    count = 100\n",
    "\n",
    "    while True:\n",
    "        url = f\"https://api.clarivate.com/api/wos/references?databaseId=WOK&uniqueId={uid}&count={count}&firstRecord={first_index}\"\n",
    "        headers = {\n",
    "            'X-ApiKey': api_key\n",
    "        }\n",
    "        response = requests.get(url, headers=headers)\n",
    "        if response.status_code == 200:\n",
    "            references = response.json()\n",
    "            all_references['Data'].extend(references['Data'])\n",
    "            all_references['QueryResult'] = references['QueryResult']\n",
    "            records_found = references.get('QueryResult', {}).get('RecordsFound', 0)\n",
    "            if first_index + count > records_found:\n",
    "                break\n",
    "            first_index += count\n",
    "        else:\n",
    "            print(f\"\\nError fetching references for UID {uid}: {response.status_code}\")\n",
    "            print(\"Response Content:\", response.content)\n",
    "            break\n",
    "    print(f'\\nReceiving references for UID {uid}:\\n{all_references}\\n')\n",
    "    return all_references"
   ]
  },
  {
   "cell_type": "code",
   "execution_count": null,
   "metadata": {},
   "outputs": [],
   "source": [
    "def extract_dois(references):\n",
    "    dois = []\n",
    "    for ref in references['Data']:\n",
    "        doi = ref.get('DOI')\n",
    "        if doi:\n",
    "            doi = doi.replace('/', '%2F').replace('.', '%2E').replace('-', '%2D')\n",
    "            dois.append(doi)\n",
    "    return dois"
   ]
  },
  {
   "cell_type": "code",
   "execution_count": null,
   "metadata": {},
   "outputs": [],
   "source": [
    "def process_papers(papers, api_key, depth, visited_dois, current_depth=0): ######\n",
    "    if current_depth > depth:\n",
    "        return []\n",
    "\n",
    "    processed_papers = []\n",
    "\n",
    "    p_counter = 0\n",
    "\n",
    "    for paper in papers:\n",
    "        p_counter += 1\n",
    "        print('Counter : ', p_counter, '/', len(papers))\n",
    "        if isinstance(paper, dict):\n",
    "            paper_doi = paper.get('doi')\n",
    "        else:\n",
    "            paper_doi = paper\n",
    "        \n",
    "        if paper_doi and paper_doi not in visited_dois:  ######\n",
    "            visited_dois.add(paper_doi) ######\n",
    "            metadata, uid = fetch_metadata_uid_using_doi(paper_doi, api_key)\n",
    "            if uid:\n",
    "                references_data = fetch_references_using_uid(uid, api_key)\n",
    "                if references_data:\n",
    "                    reference_dois = extract_dois(references_data)\n",
    "                    references = process_papers(reference_dois, api_key, depth, visited_dois, current_depth + 1) ######\n",
    "                    processed_papers.append({\n",
    "                        'doi': paper_doi,\n",
    "                        'metadata': metadata,\n",
    "                        'references': references\n",
    "                    })\n",
    "\n",
    "    return processed_papers"
   ]
  },
  {
   "cell_type": "code",
   "execution_count": null,
   "metadata": {},
   "outputs": [],
   "source": [
    "def main():\n",
    "\n",
    "    with open('seedPapers.bib') as bibtex_file:\n",
    "        bib_database = bibtexparser.load(bibtex_file)\n",
    "    \n",
    "    papers = bib_database.entries\n",
    "\n",
    "    api_key = 'your-api-key'\n",
    "    depth = 1\n",
    "    visited_dois = set() ######\n",
    "\n",
    "    all_papers_data = process_papers(papers, api_key, depth, visited_dois) ######\n",
    "\n",
    "    with open('all_papers_data.json', 'w') as f:\n",
    "        json.dump(all_papers_data, f, indent=4)\n",
    "        \n",
    "\n",
    "if __name__ == \"__main__\":\n",
    "    main()"
   ]
  },
  {
   "cell_type": "code",
   "execution_count": null,
   "metadata": {},
   "outputs": [],
   "source": []
  },
  {
   "cell_type": "code",
   "execution_count": null,
   "metadata": {},
   "outputs": [],
   "source": []
  },
  {
   "cell_type": "code",
   "execution_count": null,
   "metadata": {},
   "outputs": [],
   "source": []
  }
 ],
 "metadata": {
  "kernelspec": {
   "display_name": "Python 3 (ipykernel)",
   "language": "python",
   "name": "python3"
  },
  "language_info": {
   "codemirror_mode": {
    "name": "ipython",
    "version": 3
   },
   "file_extension": ".py",
   "mimetype": "text/x-python",
   "name": "python",
   "nbconvert_exporter": "python",
   "pygments_lexer": "ipython3",
   "version": "3.11.4"
  },
  "orig_nbformat": 4
 },
 "nbformat": 4,
 "nbformat_minor": 2
}
